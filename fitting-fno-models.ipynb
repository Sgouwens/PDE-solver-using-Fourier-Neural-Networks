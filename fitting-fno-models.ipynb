{
 "cells": [
  {
   "cell_type": "code",
   "execution_count": null,
   "id": "b47794ec",
   "metadata": {},
   "outputs": [],
   "source": [
    "import os\n",
    "\n",
    "os.chdir('/home/gouwenss/my_biogrid/surrogate-spr')\n",
    "\n",
    "def make_prompt_command(config, script_name='PDE_FNO_Solver.py'):\n",
    "\n",
    "    args_parts = (\n",
    "    f'--{key.replace(\"_\", \"-\")} {value}' if not isinstance(value, bool) else\n",
    "    f'--{key.replace(\"_\", \"-\")}' if value else ''\n",
    "    for key, value in my_config.items()\n",
    "    )\n",
    "    \n",
    "    args_string = ' '.join(filter(None, args_parts))\n",
    "    prompt_command = f\"bsub -q bio-gpu-v100-interactive -Is python3 PDE_FNO_Solver.py {args_string}\"\n",
    "\n",
    "    return prompt_command\n",
    "    \n",
    "# python fscript.py                                                    <- runs on own computer = cpu\n",
    "# bsub -q bio-interactive -Is python3 script.py rivm-lsfsv10p          <- runs on the CPU cluster\n",
    "# bsub -q bio-gpu-v100-interactive -Is python3 script.py rivm-lsfsv10p <- runs on the GPU cluster"
   ]
  },
  {
   "cell_type": "code",
   "execution_count": null,
   "id": "a359f7fd",
   "metadata": {},
   "outputs": [],
   "source": [
    "# From the config, we construct a prompt that can be bsubbed\n",
    "my_config = {\n",
    "    'modes_x': 16,\n",
    "    'modes_y': 16,\n",
    "    'width': 64,\n",
    "    'num_layers': 4,\n",
    "    'activation': 'gelu',\n",
    "    'batch_size': 16,\n",
    "    'learning_rate': 1e-4,\n",
    "    'epochs': 25,# 100,\n",
    "    'num_simulations': 1024,\n",
    "    'frames': 18,\n",
    "    'save_dir': \"saved_simulations\",\n",
    "    'use_modified_fno': True,\n",
    "    'input_param_dim': 1,\n",
    "    'hidden_param_dim': 8\n",
    "}\n",
    "\n",
    "!{make_prompt_command(my_config)}"
   ]
  },
  {
   "cell_type": "code",
   "execution_count": null,
   "id": "4d6eeaa4",
   "metadata": {},
   "outputs": [],
   "source": [
    "# From the config, we construct a prompt that can be bsubbed\n",
    "my_config = {\n",
    "    'modes_x': 16,\n",
    "    'modes_y': 16,\n",
    "    'width': 64,\n",
    "    'num_layers': 4,\n",
    "    'activation': 'gelu',\n",
    "    'batch_size': 16,\n",
    "    'learning_rate': 1e-4,\n",
    "    'epochs': 25*80,# 100,\n",
    "    'num_simulations': 40, #1024,\n",
    "    'frames': 18,\n",
    "    'save_dir': \"saved_simulations\",\n",
    "    'use_modified_fno': True,\n",
    "    'input_param_dim': 1,\n",
    "    'hidden_param_dim': 16\n",
    "}\n",
    "\n",
    "!{make_prompt_command(my_config)}"
   ]
  }
 ],
 "metadata": {
  "kernelspec": {
   "display_name": "torchcfm",
   "language": "python",
   "name": "python3"
  },
  "language_info": {
   "codemirror_mode": {
    "name": "ipython",
    "version": 3
   },
   "file_extension": ".py",
   "mimetype": "text/x-python",
   "name": "python",
   "nbconvert_exporter": "python",
   "pygments_lexer": "ipython3",
   "version": "3.10.18"
  }
 },
 "nbformat": 4,
 "nbformat_minor": 5
}
